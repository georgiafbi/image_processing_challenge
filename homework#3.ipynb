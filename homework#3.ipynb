{
 "cells": [
  {
   "cell_type": "code",
   "execution_count": 1,
   "id": "520f0be8-8d6e-46dd-a4f0-db9c6e6c21b2",
   "metadata": {},
   "outputs": [],
   "source": [
    "import cv2\n",
    "import numpy as np\n",
    "import sys"
   ]
  },
  {
   "cell_type": "code",
   "execution_count": 2,
   "id": "f74b4dee-60dd-4d5c-adc2-716964d79329",
   "metadata": {},
   "outputs": [],
   "source": [
    "img=cv2.imread(\"Book.png\")\n",
    "if img is None:\n",
    "    sys.exit(\"Could not read the image.\")\n",
    "cv2.imshow(\"Book Only Image\", img)\n",
    "\n",
    "\n",
    "grayImg = cv2.cvtColor(img, cv2.COLOR_RGB2GRAY)\n",
    "cv2.imshow(\"Gray Scale Image of Book\", grayImg)\n",
    "\n",
    "k = cv2.waitKey(0)\n",
    "\n"
   ]
  },
  {
   "cell_type": "code",
   "execution_count": null,
   "id": "0df903b9-884c-45fd-bc29-ac38b9e68652",
   "metadata": {},
   "outputs": [],
   "source": []
  }
 ],
 "metadata": {
  "kernelspec": {
   "display_name": "Python 3 (ipykernel)",
   "language": "python",
   "name": "python3"
  },
  "language_info": {
   "codemirror_mode": {
    "name": "ipython",
    "version": 3
   },
   "file_extension": ".py",
   "mimetype": "text/x-python",
   "name": "python",
   "nbconvert_exporter": "python",
   "pygments_lexer": "ipython3",
   "version": "3.8.11"
  }
 },
 "nbformat": 4,
 "nbformat_minor": 5
}
